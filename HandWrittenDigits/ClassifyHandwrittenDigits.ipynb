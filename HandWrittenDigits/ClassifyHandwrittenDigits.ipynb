{
 "cells": [
  {
   "cell_type": "code",
   "execution_count": 2,
   "metadata": {
    "collapsed": true
   },
   "outputs": [
    {
     "name": "stderr",
     "output_type": "stream",
     "text": [
      "2023-08-13 14:33:27.058743: I tensorflow/core/platform/cpu_feature_guard.cc:193] This TensorFlow binary is optimized with oneAPI Deep Neural Network Library (oneDNN) to use the following CPU instructions in performance-critical operations:  SSE4.1 SSE4.2\n",
      "To enable them in other operations, rebuild TensorFlow with the appropriate compiler flags.\n"
     ]
    }
   ],
   "source": [
    "import numpy as np\n",
    "import matplotlib.pyplot as plt\n",
    "import pandas as pd\n",
    "from keras.datasets import mnist"
   ]
  },
  {
   "cell_type": "code",
   "execution_count": 5,
   "outputs": [],
   "source": [
    "# Importing the dataset\n",
    "data = pd.read_csv('train.csv')"
   ],
   "metadata": {
    "collapsed": false
   }
  },
  {
   "cell_type": "code",
   "execution_count": 6,
   "outputs": [
    {
     "data": {
      "text/plain": "   label  pixel0  pixel1  pixel2  pixel3  pixel4  pixel5  pixel6  pixel7  \\\n0      1       0       0       0       0       0       0       0       0   \n1      0       0       0       0       0       0       0       0       0   \n2      1       0       0       0       0       0       0       0       0   \n3      4       0       0       0       0       0       0       0       0   \n4      0       0       0       0       0       0       0       0       0   \n\n   pixel8  ...  pixel774  pixel775  pixel776  pixel777  pixel778  pixel779  \\\n0       0  ...         0         0         0         0         0         0   \n1       0  ...         0         0         0         0         0         0   \n2       0  ...         0         0         0         0         0         0   \n3       0  ...         0         0         0         0         0         0   \n4       0  ...         0         0         0         0         0         0   \n\n   pixel780  pixel781  pixel782  pixel783  \n0         0         0         0         0  \n1         0         0         0         0  \n2         0         0         0         0  \n3         0         0         0         0  \n4         0         0         0         0  \n\n[5 rows x 785 columns]",
      "text/html": "<div>\n<style scoped>\n    .dataframe tbody tr th:only-of-type {\n        vertical-align: middle;\n    }\n\n    .dataframe tbody tr th {\n        vertical-align: top;\n    }\n\n    .dataframe thead th {\n        text-align: right;\n    }\n</style>\n<table border=\"1\" class=\"dataframe\">\n  <thead>\n    <tr style=\"text-align: right;\">\n      <th></th>\n      <th>label</th>\n      <th>pixel0</th>\n      <th>pixel1</th>\n      <th>pixel2</th>\n      <th>pixel3</th>\n      <th>pixel4</th>\n      <th>pixel5</th>\n      <th>pixel6</th>\n      <th>pixel7</th>\n      <th>pixel8</th>\n      <th>...</th>\n      <th>pixel774</th>\n      <th>pixel775</th>\n      <th>pixel776</th>\n      <th>pixel777</th>\n      <th>pixel778</th>\n      <th>pixel779</th>\n      <th>pixel780</th>\n      <th>pixel781</th>\n      <th>pixel782</th>\n      <th>pixel783</th>\n    </tr>\n  </thead>\n  <tbody>\n    <tr>\n      <th>0</th>\n      <td>1</td>\n      <td>0</td>\n      <td>0</td>\n      <td>0</td>\n      <td>0</td>\n      <td>0</td>\n      <td>0</td>\n      <td>0</td>\n      <td>0</td>\n      <td>0</td>\n      <td>...</td>\n      <td>0</td>\n      <td>0</td>\n      <td>0</td>\n      <td>0</td>\n      <td>0</td>\n      <td>0</td>\n      <td>0</td>\n      <td>0</td>\n      <td>0</td>\n      <td>0</td>\n    </tr>\n    <tr>\n      <th>1</th>\n      <td>0</td>\n      <td>0</td>\n      <td>0</td>\n      <td>0</td>\n      <td>0</td>\n      <td>0</td>\n      <td>0</td>\n      <td>0</td>\n      <td>0</td>\n      <td>0</td>\n      <td>...</td>\n      <td>0</td>\n      <td>0</td>\n      <td>0</td>\n      <td>0</td>\n      <td>0</td>\n      <td>0</td>\n      <td>0</td>\n      <td>0</td>\n      <td>0</td>\n      <td>0</td>\n    </tr>\n    <tr>\n      <th>2</th>\n      <td>1</td>\n      <td>0</td>\n      <td>0</td>\n      <td>0</td>\n      <td>0</td>\n      <td>0</td>\n      <td>0</td>\n      <td>0</td>\n      <td>0</td>\n      <td>0</td>\n      <td>...</td>\n      <td>0</td>\n      <td>0</td>\n      <td>0</td>\n      <td>0</td>\n      <td>0</td>\n      <td>0</td>\n      <td>0</td>\n      <td>0</td>\n      <td>0</td>\n      <td>0</td>\n    </tr>\n    <tr>\n      <th>3</th>\n      <td>4</td>\n      <td>0</td>\n      <td>0</td>\n      <td>0</td>\n      <td>0</td>\n      <td>0</td>\n      <td>0</td>\n      <td>0</td>\n      <td>0</td>\n      <td>0</td>\n      <td>...</td>\n      <td>0</td>\n      <td>0</td>\n      <td>0</td>\n      <td>0</td>\n      <td>0</td>\n      <td>0</td>\n      <td>0</td>\n      <td>0</td>\n      <td>0</td>\n      <td>0</td>\n    </tr>\n    <tr>\n      <th>4</th>\n      <td>0</td>\n      <td>0</td>\n      <td>0</td>\n      <td>0</td>\n      <td>0</td>\n      <td>0</td>\n      <td>0</td>\n      <td>0</td>\n      <td>0</td>\n      <td>0</td>\n      <td>...</td>\n      <td>0</td>\n      <td>0</td>\n      <td>0</td>\n      <td>0</td>\n      <td>0</td>\n      <td>0</td>\n      <td>0</td>\n      <td>0</td>\n      <td>0</td>\n      <td>0</td>\n    </tr>\n  </tbody>\n</table>\n<p>5 rows × 785 columns</p>\n</div>"
     },
     "execution_count": 6,
     "metadata": {},
     "output_type": "execute_result"
    }
   ],
   "source": [
    "data.head()"
   ],
   "metadata": {
    "collapsed": false,
    "pycharm": {
     "name": "#%%\n"
    }
   }
  },
  {
   "cell_type": "code",
   "execution_count": 25,
   "outputs": [],
   "source": [
    "data = np.array(data)\n",
    "m, n = data.shape\n",
    "np.random.shuffle(data) # shuffle before splitting into dev and training sets\n",
    "\n",
    "data_dev = data[0:1000].T\n",
    "Y_dev = data_dev[0]\n",
    "X_dev = data_dev[1:n]\n",
    "X_dev = X_dev / 255.\n",
    "\n",
    "data_train = data[1000:m].T\n",
    "Y_train = data_train[0]\n",
    "X_train = data_train[1:n]\n",
    "X_train = X_train / 255.\n",
    "_,m_train = X_train.shape"
   ],
   "metadata": {
    "collapsed": false
   }
  },
  {
   "cell_type": "markdown",
   "source": [],
   "metadata": {
    "collapsed": false
   }
  },
  {
   "cell_type": "code",
   "execution_count": 13,
   "outputs": [
    {
     "data": {
      "text/plain": "array([2, 2, 0, ..., 3, 9, 0])"
     },
     "execution_count": 13,
     "metadata": {},
     "output_type": "execute_result"
    }
   ],
   "source": [
    "Y_train"
   ],
   "metadata": {
    "collapsed": false,
    "pycharm": {
     "name": "#%%\n"
    }
   }
  },
  {
   "cell_type": "code",
   "execution_count": 14,
   "outputs": [
    {
     "data": {
      "text/plain": "(784,)"
     },
     "execution_count": 14,
     "metadata": {},
     "output_type": "execute_result"
    }
   ],
   "source": [
    "X_train[:,0].shape"
   ],
   "metadata": {
    "collapsed": false,
    "pycharm": {
     "name": "#%%\n"
    }
   }
  },
  {
   "cell_type": "code",
   "execution_count": 28,
   "outputs": [],
   "source": [
    "def init_params():\n",
    "    W1 = np.random.rand(10, 784) - 0.5\n",
    "    b1 = np.random.rand(10, 1) - 0.5\n",
    "    W2 = np.random.rand(10, 10) - 0.5\n",
    "    b2 = np.random.rand(10, 1) - 0.5\n",
    "    return W1, b1, W2, b2\n",
    "\n",
    "def ReLU(Z):\n",
    "    return np.maximum(Z, 0)\n",
    "\n",
    "def softmax(Z):\n",
    "    A = np.exp(Z) / sum(np.exp(Z))\n",
    "    return A\n",
    "\n",
    "def forward_prop(W1, b1, W2, b2, X):\n",
    "    Z1 = W1.dot(X) + b1\n",
    "    A1 = ReLU(Z1)\n",
    "    Z2 = W2.dot(A1) + b2\n",
    "    A2 = softmax(Z2)\n",
    "    return Z1, A1, Z2, A2\n",
    "\n",
    "def ReLU_deriv(Z):\n",
    "    return Z > 0\n",
    "\n",
    "def one_hot(Y):\n",
    "    one_hot_Y = np.zeros((Y.size, Y.max() + 1))\n",
    "    one_hot_Y[np.arange(Y.size), Y] = 1\n",
    "    one_hot_Y = one_hot_Y.T\n",
    "    return one_hot_Y\n",
    "\n",
    "def backward_prop(Z1, A1, Z2, A2, W1, W2, X, Y):\n",
    "    one_hot_Y = one_hot(Y)\n",
    "    dZ2 = A2 - one_hot_Y\n",
    "    dW2 = 1 / m * dZ2.dot(A1.T)\n",
    "    db2 = 1 / m * np.sum(dZ2)\n",
    "    dZ1 = W2.T.dot(dZ2) * ReLU_deriv(Z1)\n",
    "    dW1 = 1 / m * dZ1.dot(X.T)\n",
    "    db1 = 1 / m * np.sum(dZ1)\n",
    "    return dW1, db1, dW2, db2\n",
    "\n",
    "def update_params(W1, b1, W2, b2, dW1, db1, dW2, db2, alpha):\n",
    "    W1 = W1 - alpha * dW1\n",
    "    b1 = b1 - alpha * db1\n",
    "    W2 = W2 - alpha * dW2\n",
    "    b2 = b2 - alpha * db2\n",
    "    return W1, b1, W2, b2"
   ],
   "metadata": {
    "collapsed": false,
    "pycharm": {
     "name": "#%%\n"
    }
   }
  },
  {
   "cell_type": "code",
   "execution_count": 19,
   "outputs": [],
   "source": [
    "def get_predictions(A2):\n",
    "    return np.argmax(A2, 0)\n",
    "\n",
    "def get_accuracy(predictions, Y):\n",
    "    print(predictions, Y)\n",
    "    return np.sum(predictions == Y) / Y.size\n",
    "\n",
    "def gradient_descent(X, Y, alpha, iterations):\n",
    "    W1, b1, W2, b2 = init_params()\n",
    "    for i in range(iterations):\n",
    "        Z1, A1, Z2, A2 = forward_prop(W1, b1, W2, b2, X)\n",
    "        dW1, db1, dW2, db2 = backward_prop(Z1, A1, Z2, A2, W1, W2, X, Y)\n",
    "        W1, b1, W2, b2 = update_params(W1, b1, W2, b2, dW1, db1, dW2, db2, alpha)\n",
    "        if i % 10 == 0:\n",
    "            print(\"Iteration: \", i)\n",
    "            predictions = get_predictions(A2)\n",
    "            print(get_accuracy(predictions, Y))\n",
    "    return W1, b1, W2, b2"
   ],
   "metadata": {
    "collapsed": false
   }
  },
  {
   "cell_type": "code",
   "execution_count": 29,
   "outputs": [
    {
     "name": "stdout",
     "output_type": "stream",
     "text": [
      "Iteration:  0\n",
      "[7 3 4 ... 4 4 9] [6 2 1 ... 2 5 7]\n",
      "0.11714634146341464\n",
      "Iteration:  10\n",
      "[2 3 0 ... 8 4 9] [6 2 1 ... 2 5 7]\n",
      "0.19441463414634147\n",
      "Iteration:  20\n",
      "[2 3 0 ... 8 4 9] [6 2 1 ... 2 5 7]\n",
      "0.3057560975609756\n",
      "Iteration:  30\n",
      "[2 3 1 ... 8 4 9] [6 2 1 ... 2 5 7]\n",
      "0.38953658536585367\n",
      "Iteration:  40\n",
      "[8 3 1 ... 4 4 9] [6 2 1 ... 2 5 7]\n",
      "0.45858536585365856\n",
      "Iteration:  50\n",
      "[2 3 1 ... 4 4 9] [6 2 1 ... 2 5 7]\n",
      "0.5081951219512195\n",
      "Iteration:  60\n",
      "[2 3 1 ... 4 4 7] [6 2 1 ... 2 5 7]\n",
      "0.5471463414634147\n",
      "Iteration:  70\n",
      "[6 3 1 ... 4 4 7] [6 2 1 ... 2 5 7]\n",
      "0.5786829268292683\n",
      "Iteration:  80\n",
      "[6 3 1 ... 4 4 7] [6 2 1 ... 2 5 7]\n",
      "0.6036341463414634\n",
      "Iteration:  90\n",
      "[6 3 1 ... 4 4 7] [6 2 1 ... 2 5 7]\n",
      "0.6264634146341463\n",
      "Iteration:  100\n",
      "[6 3 1 ... 4 4 7] [6 2 1 ... 2 5 7]\n",
      "0.6454634146341464\n",
      "Iteration:  110\n",
      "[6 3 1 ... 4 4 7] [6 2 1 ... 2 5 7]\n",
      "0.6629268292682927\n",
      "Iteration:  120\n",
      "[6 3 1 ... 4 4 7] [6 2 1 ... 2 5 7]\n",
      "0.6770731707317074\n",
      "Iteration:  130\n",
      "[6 3 1 ... 4 4 7] [6 2 1 ... 2 5 7]\n",
      "0.6902926829268292\n",
      "Iteration:  140\n",
      "[6 3 1 ... 8 4 7] [6 2 1 ... 2 5 7]\n",
      "0.7024634146341463\n",
      "Iteration:  150\n",
      "[6 3 1 ... 8 4 7] [6 2 1 ... 2 5 7]\n",
      "0.7140243902439024\n",
      "Iteration:  160\n",
      "[6 3 1 ... 8 4 7] [6 2 1 ... 2 5 7]\n",
      "0.7234634146341463\n",
      "Iteration:  170\n",
      "[6 3 1 ... 8 4 7] [6 2 1 ... 2 5 7]\n",
      "0.7329024390243902\n",
      "Iteration:  180\n",
      "[6 3 1 ... 8 5 7] [6 2 1 ... 2 5 7]\n",
      "0.7404878048780488\n",
      "Iteration:  190\n",
      "[6 3 1 ... 8 5 7] [6 2 1 ... 2 5 7]\n",
      "0.7478780487804878\n",
      "Iteration:  200\n",
      "[6 3 1 ... 8 5 7] [6 2 1 ... 2 5 7]\n",
      "0.7541219512195122\n",
      "Iteration:  210\n",
      "[6 3 1 ... 8 5 7] [6 2 1 ... 2 5 7]\n",
      "0.7608048780487805\n",
      "Iteration:  220\n",
      "[6 3 1 ... 8 5 7] [6 2 1 ... 2 5 7]\n",
      "0.7658536585365854\n",
      "Iteration:  230\n",
      "[6 3 1 ... 8 5 7] [6 2 1 ... 2 5 7]\n",
      "0.7716829268292683\n",
      "Iteration:  240\n",
      "[6 3 1 ... 8 5 7] [6 2 1 ... 2 5 7]\n",
      "0.7770487804878049\n",
      "Iteration:  250\n",
      "[6 3 1 ... 8 5 7] [6 2 1 ... 2 5 7]\n",
      "0.7811463414634147\n",
      "Iteration:  260\n",
      "[6 3 1 ... 8 5 7] [6 2 1 ... 2 5 7]\n",
      "0.7855609756097561\n",
      "Iteration:  270\n",
      "[6 3 1 ... 8 5 7] [6 2 1 ... 2 5 7]\n",
      "0.7903902439024391\n",
      "Iteration:  280\n",
      "[6 3 1 ... 8 5 7] [6 2 1 ... 2 5 7]\n",
      "0.7940731707317074\n",
      "Iteration:  290\n",
      "[6 3 1 ... 8 5 7] [6 2 1 ... 2 5 7]\n",
      "0.7975365853658537\n",
      "Iteration:  300\n",
      "[6 3 1 ... 8 5 7] [6 2 1 ... 2 5 7]\n",
      "0.8009268292682927\n",
      "Iteration:  310\n",
      "[6 3 1 ... 8 5 7] [6 2 1 ... 2 5 7]\n",
      "0.8042682926829269\n",
      "Iteration:  320\n",
      "[6 3 1 ... 8 5 7] [6 2 1 ... 2 5 7]\n",
      "0.8069756097560976\n",
      "Iteration:  330\n",
      "[6 3 1 ... 8 5 7] [6 2 1 ... 2 5 7]\n",
      "0.8096341463414635\n",
      "Iteration:  340\n",
      "[6 3 1 ... 8 5 7] [6 2 1 ... 2 5 7]\n",
      "0.8120975609756098\n",
      "Iteration:  350\n",
      "[6 3 1 ... 8 5 7] [6 2 1 ... 2 5 7]\n",
      "0.8144878048780487\n",
      "Iteration:  360\n",
      "[6 3 1 ... 8 5 7] [6 2 1 ... 2 5 7]\n",
      "0.8171219512195121\n",
      "Iteration:  370\n",
      "[6 3 1 ... 8 5 7] [6 2 1 ... 2 5 7]\n",
      "0.8196829268292682\n",
      "Iteration:  380\n",
      "[6 3 1 ... 8 5 7] [6 2 1 ... 2 5 7]\n",
      "0.821560975609756\n",
      "Iteration:  390\n",
      "[6 3 1 ... 8 5 7] [6 2 1 ... 2 5 7]\n",
      "0.8236829268292682\n",
      "Iteration:  400\n",
      "[6 3 1 ... 8 5 7] [6 2 1 ... 2 5 7]\n",
      "0.8257560975609756\n",
      "Iteration:  410\n",
      "[6 3 1 ... 8 5 7] [6 2 1 ... 2 5 7]\n",
      "0.8276341463414634\n",
      "Iteration:  420\n",
      "[6 3 1 ... 8 5 7] [6 2 1 ... 2 5 7]\n",
      "0.8294146341463414\n",
      "Iteration:  430\n",
      "[6 3 1 ... 8 5 7] [6 2 1 ... 2 5 7]\n",
      "0.8310975609756097\n",
      "Iteration:  440\n",
      "[6 3 1 ... 8 5 7] [6 2 1 ... 2 5 7]\n",
      "0.8326585365853658\n",
      "Iteration:  450\n",
      "[6 3 1 ... 8 5 7] [6 2 1 ... 2 5 7]\n",
      "0.8347560975609756\n",
      "Iteration:  460\n",
      "[6 3 1 ... 8 5 7] [6 2 1 ... 2 5 7]\n",
      "0.836170731707317\n",
      "Iteration:  470\n",
      "[6 3 1 ... 8 5 7] [6 2 1 ... 2 5 7]\n",
      "0.8376585365853658\n",
      "Iteration:  480\n",
      "[6 2 1 ... 8 5 7] [6 2 1 ... 2 5 7]\n",
      "0.8392439024390244\n",
      "Iteration:  490\n",
      "[6 2 1 ... 8 5 7] [6 2 1 ... 2 5 7]\n",
      "0.8405853658536585\n"
     ]
    }
   ],
   "source": [
    "W1, b1, W2, b2 = gradient_descent(X_train, Y_train, 0.10, 500)"
   ],
   "metadata": {
    "collapsed": false,
    "pycharm": {
     "name": "#%%\n"
    }
   }
  },
  {
   "cell_type": "code",
   "execution_count": 30,
   "outputs": [],
   "source": [
    "def make_predictions(X, W1, b1, W2, b2):\n",
    "    _, _, _, A2 = forward_prop(W1, b1, W2, b2, X)\n",
    "    predictions = get_predictions(A2)\n",
    "    return predictions\n",
    "\n",
    "def test_prediction(index, W1, b1, W2, b2):\n",
    "    current_image = X_train[:, index, None]\n",
    "    prediction = make_predictions(X_train[:, index, None], W1, b1, W2, b2)\n",
    "    label = Y_train[index]\n",
    "    print(\"Prediction: \", prediction)\n",
    "    print(\"Label: \", label)\n",
    "\n",
    "    current_image = current_image.reshape((28, 28)) * 255\n",
    "    plt.gray()\n",
    "    plt.imshow(current_image, interpolation='nearest')\n",
    "    plt.show()"
   ],
   "metadata": {
    "collapsed": false,
    "pycharm": {
     "name": "#%%\n"
    }
   }
  },
  {
   "cell_type": "code",
   "execution_count": 31,
   "outputs": [
    {
     "name": "stdout",
     "output_type": "stream",
     "text": [
      "Prediction:  [6]\n",
      "Label:  6\n"
     ]
    },
    {
     "data": {
      "text/plain": "<Figure size 640x480 with 1 Axes>",
      "image/png": "[encoded data removed]"
     },
     "metadata": {},
     "output_type": "display_data"
    },
    {
     "name": "stdout",
     "output_type": "stream",
     "text": [
      "Prediction:  [2]\n",
      "Label:  2\n"
     ]
    },
    {
     "data": {
      "text/plain": "<Figure size 640x480 with 1 Axes>",
      "image/png": "[encoded data removed]"
     },
     "metadata": {},
     "output_type": "display_data"
    },
    {
     "name": "stdout",
     "output_type": "stream",
     "text": [
      "Prediction:  [1]\n",
      "Label:  1\n"
     ]
    },
    {
     "data": {
      "text/plain": "<Figure size 640x480 with 1 Axes>",
      "image/png": "[encoded data removed]"
     },
     "metadata": {},
     "output_type": "display_data"
    },
    {
     "name": "stdout",
     "output_type": "stream",
     "text": [
      "Prediction:  [1]\n",
      "Label:  1\n"
     ]
    },
    {
     "data": {
      "text/plain": "<Figure size 640x480 with 1 Axes>",
      "image/png": "[encoded data removed]"
     },
     "metadata": {},
     "output_type": "display_data"
    }
   ],
   "source": [
    "test_prediction(0, W1, b1, W2, b2)\n",
    "test_prediction(1, W1, b1, W2, b2)\n",
    "test_prediction(2, W1, b1, W2, b2)\n",
    "test_prediction(3, W1, b1, W2, b2)"
   ],
   "metadata": {
    "collapsed": false,
    "pycharm": {
     "name": "#%%\n"
    }
   }
  },
  {
   "cell_type": "code",
   "execution_count": 32,
   "outputs": [
    {
     "name": "stdout",
     "output_type": "stream",
     "text": [
      "[9 6 8 8 9 2 7 9 1 1 7 0 6 1 2 1 3 2 5 1 0 3 1 0 7 4 1 9 6 9 2 2 0 3 7 7 6\n",
      " 3 5 6 2 1 7 4 1 0 1 9 4 7 6 3 5 1 1 6 3 0 1 1 2 7 0 0 5 9 8 2 3 8 3 1 4 6\n",
      " 9 4 3 8 8 0 0 2 9 6 3 9 7 5 5 2 1 9 9 7 9 0 7 0 5 6 3 0 8 5 8 8 8 3 8 3 1\n",
      " 9 6 0 2 6 0 3 2 7 8 2 8 4 2 0 1 1 5 7 0 0 7 8 9 3 9 4 0 6 3 1 7 7 7 5 5 4\n",
      " 7 9 7 7 4 7 5 7 1 7 3 1 0 5 0 1 4 8 9 3 7 5 6 9 9 8 1 1 2 1 8 1 1 6 5 6 5\n",
      " 7 6 7 9 6 8 2 8 3 4 9 2 9 3 2 4 6 8 2 8 2 3 4 8 4 2 4 5 8 8 2 1 9 4 1 9 4\n",
      " 8 6 8 0 0 6 6 4 6 6 8 7 8 7 2 6 2 0 6 7 8 3 3 6 0 6 5 8 3 4 1 6 0 9 6 9 6\n",
      " 3 8 6 7 0 2 1 4 7 0 7 3 4 6 1 0 4 2 7 6 8 7 0 8 6 0 1 4 2 8 2 1 2 1 2 6 8\n",
      " 7 5 7 3 9 8 8 4 4 1 7 2 9 3 4 6 1 6 0 5 7 5 4 7 3 9 4 9 0 8 6 5 6 4 6 6 4\n",
      " 3 2 2 8 2 5 9 3 6 9 0 2 1 6 5 7 8 8 2 5 0 6 5 8 3 0 9 2 4 3 3 1 1 7 7 7 6\n",
      " 4 9 4 9 7 1 0 5 9 6 3 7 4 0 2 0 9 7 9 1 2 2 9 3 1 3 4 5 6 4 0 8 8 3 7 3 5\n",
      " 3 1 5 7 3 0 1 2 8 2 1 6 1 8 0 3 1 5 5 7 0 1 8 3 0 5 4 3 6 2 1 3 8 9 0 3 0\n",
      " 7 1 6 6 8 0 2 6 2 7 5 3 2 0 0 2 2 9 4 6 3 3 3 4 9 0 3 3 1 8 4 8 2 4 6 0 5\n",
      " 3 7 0 8 1 5 8 6 7 6 7 4 5 3 1 5 5 1 1 7 1 1 9 9 1 6 1 5 3 8 5 9 4 4 1 5 9\n",
      " 3 5 9 4 4 9 6 2 5 1 3 1 5 1 4 2 3 4 9 6 6 2 3 8 9 2 7 7 1 6 2 0 0 8 7 9 7\n",
      " 0 1 0 9 5 9 6 3 9 6 8 8 1 2 2 3 4 3 8 2 3 3 9 0 0 0 6 2 0 4 4 1 2 1 2 3 6\n",
      " 3 4 2 6 3 6 8 9 3 7 0 9 0 1 8 7 9 7 6 3 6 2 0 8 2 9 0 5 0 2 4 3 9 1 7 1 4\n",
      " 8 4 9 9 9 9 5 6 3 0 0 5 4 5 5 6 1 0 5 2 1 4 6 8 9 7 0 1 5 0 8 4 7 7 4 5 0\n",
      " 8 2 9 6 9 2 9 3 4 7 0 9 1 3 0 6 9 6 1 6 2 4 4 0 2 6 7 7 8 7 7 0 6 9 3 1 0\n",
      " 5 6 9 1 3 9 8 9 2 2 1 4 0 2 1 3 5 9 3 7 3 8 4 9 2 9 2 6 1 5 1 3 1 1 9 4 0\n",
      " 7 0 6 0 0 0 0 3 2 7 3 8 3 7 9 4 9 9 7 6 9 0 5 6 9 0 7 5 0 5 2 9 8 3 4 6 1\n",
      " 4 8 2 6 1 0 7 3 2 3 7 0 7 4 6 7 7 7 7 0 1 5 8 4 6 0 9 1 8 6 8 5 3 4 0 7 2\n",
      " 9 5 4 3 6 7 1 6 9 5 7 5 8 9 3 5 6 0 1 7 0 6 1 9 3 4 6 5 5 8 9 1 9 4 1 3 6\n",
      " 0 5 0 7 2 4 0 1 7 5 5 3 1 2 8 6 2 7 3 1 1 2 6 1 3 6 9 9 2 9 0 2 1 0 2 9 4\n",
      " 9 2 7 6 5 7 8 3 0 8 3 3 6 6 1 9 6 1 5 1 3 4 8 2 2 4 5 1 1 9 2 4 0 0 7 2 6\n",
      " 0 9 2 7 6 7 9 0 0 2 2 1 1 2 3 0 0 8 1 7 8 6 8 5 2 6 3 6 1 3 1 7 8 6 5 2 1\n",
      " 7 9 4 5 4 9 5 3 9 6 1 0 6 7 2 9 8 2 3 4 5 1 5 9 6 9 2 0 2 1 4 0 2 0 3 7 9\n",
      " 4] [9 6 8 8 9 5 7 4 1 1 7 0 6 3 2 1 3 2 5 1 0 3 1 0 7 4 1 9 6 9 2 2 0 2 4 7 6\n",
      " 5 5 6 2 1 7 4 1 0 1 9 4 7 6 3 8 1 1 6 3 0 1 1 2 7 0 0 9 9 8 2 2 8 3 1 5 2\n",
      " 5 4 2 8 8 0 0 3 9 6 3 9 7 5 5 2 1 9 9 5 9 0 7 0 5 6 3 0 8 0 8 8 8 3 8 3 1\n",
      " 9 6 0 2 6 0 3 2 7 8 2 0 4 2 0 1 1 5 7 0 9 7 8 9 3 9 4 0 6 3 1 7 7 7 3 6 4\n",
      " 7 9 7 7 4 7 5 7 1 7 3 1 0 5 0 1 4 8 9 2 7 5 6 9 9 8 1 1 2 1 8 1 1 3 5 6 5\n",
      " 7 2 7 9 6 8 2 8 3 4 9 2 7 3 2 4 6 8 2 8 2 3 4 9 4 2 4 5 3 8 2 1 5 4 1 9 4\n",
      " 8 6 8 0 0 6 6 4 6 6 8 7 8 7 2 6 2 0 6 3 8 3 3 6 0 6 3 8 3 4 1 6 0 4 6 9 0\n",
      " 8 8 6 7 0 2 1 4 7 0 7 3 4 6 1 0 4 2 7 6 8 2 0 8 6 0 1 7 2 8 2 1 4 1 2 6 8\n",
      " 7 6 7 3 7 8 8 4 4 1 7 2 7 3 4 6 1 2 0 5 7 5 9 7 2 4 4 4 0 8 6 5 6 4 2 6 4\n",
      " 3 2 2 1 2 5 9 3 4 9 0 2 1 2 5 7 2 8 3 5 0 6 5 8 5 0 9 2 4 3 3 1 1 7 7 7 6\n",
      " 4 9 4 9 7 1 0 5 9 6 5 7 5 5 2 0 9 7 9 1 2 2 9 3 1 3 4 6 6 4 0 8 8 3 7 3 5\n",
      " 3 8 5 7 3 0 1 2 2 2 1 6 1 8 0 3 5 5 3 7 3 1 8 3 0 5 4 3 6 2 1 3 8 9 0 3 0\n",
      " 7 1 0 6 8 0 2 6 2 7 3 8 2 2 0 2 3 9 4 6 3 3 3 4 4 0 3 8 1 8 4 8 2 4 6 0 8\n",
      " 3 7 0 1 1 5 8 6 7 6 7 4 5 5 1 5 5 1 1 7 1 1 9 9 1 6 1 5 3 8 8 9 4 4 1 5 9\n",
      " 3 3 9 4 4 8 6 2 5 1 3 1 5 1 4 2 3 4 9 6 6 2 3 8 9 6 7 9 1 6 2 0 0 8 7 9 7\n",
      " 0 1 0 9 5 9 6 7 9 5 8 8 1 3 2 5 4 3 8 2 3 3 9 6 0 0 6 6 0 4 4 8 2 1 2 5 6\n",
      " 3 4 2 6 3 6 8 9 3 7 0 9 0 8 8 7 4 7 6 3 6 2 0 8 2 9 0 5 0 2 4 3 9 1 7 1 4\n",
      " 8 4 9 9 9 4 5 6 3 0 0 5 4 5 5 6 8 0 5 2 1 4 6 8 9 7 0 1 5 0 8 4 7 7 2 5 9\n",
      " 8 2 9 6 9 2 9 3 4 7 0 9 1 8 0 9 9 2 1 6 2 4 4 0 2 6 7 7 8 7 7 2 6 9 3 1 0\n",
      " 5 6 9 1 3 8 8 9 5 2 1 4 0 2 1 2 5 9 8 7 5 5 4 9 9 9 2 6 1 5 1 5 1 1 9 9 0\n",
      " 7 0 2 0 0 0 0 3 2 9 3 8 3 7 9 4 9 9 7 2 9 0 5 6 9 0 7 5 0 5 2 9 3 5 4 6 1\n",
      " 4 8 2 3 1 0 7 3 2 3 7 0 7 4 6 7 7 7 7 0 1 5 8 4 6 0 3 1 8 2 8 5 3 9 6 9 8\n",
      " 9 5 4 3 6 9 7 6 7 5 9 5 2 9 3 3 6 0 1 7 3 6 1 9 3 4 6 5 5 5 9 1 4 3 1 3 6\n",
      " 0 5 0 7 2 4 0 1 7 5 5 3 1 2 8 2 3 7 3 1 1 2 0 1 3 6 9 9 2 2 0 2 1 0 2 9 4\n",
      " 9 2 7 6 5 7 9 8 0 8 3 3 6 6 1 4 6 1 5 1 3 4 3 3 2 4 5 1 1 9 2 4 5 0 7 2 6\n",
      " 0 9 2 7 6 7 4 0 0 2 2 1 1 6 3 0 0 5 1 7 8 6 8 3 7 2 3 6 1 9 1 7 2 6 5 2 1\n",
      " 7 9 4 5 4 9 3 3 9 3 1 0 6 7 2 4 8 2 1 4 5 1 5 9 6 9 2 0 2 1 4 6 2 0 3 7 9\n",
      " 4]\n"
     ]
    },
    {
     "data": {
      "text/plain": "0.854"
     },
     "execution_count": 32,
     "metadata": {},
     "output_type": "execute_result"
    }
   ],
   "source": [
    "dev_predictions = make_predictions(X_dev, W1, b1, W2, b2)\n",
    "get_accuracy(dev_predictions, Y_dev)"
   ],
   "metadata": {
    "collapsed": false,
    "pycharm": {
     "name": "#%%\n"
    }
   }
  }
 ],
 "metadata": {
  "kernelspec": {
   "display_name": "Python 3",
   "language": "python",
   "name": "python3"
  },
  "language_info": {
   "codemirror_mode": {
    "name": "ipython",
    "version": 2
   },
   "file_extension": ".py",
   "mimetype": "text/x-python",
   "name": "python",
   "nbconvert_exporter": "python",
   "pygments_lexer": "ipython2",
   "version": "2.7.6"
  }
 },
 "nbformat": 4,
 "nbformat_minor": 0
}