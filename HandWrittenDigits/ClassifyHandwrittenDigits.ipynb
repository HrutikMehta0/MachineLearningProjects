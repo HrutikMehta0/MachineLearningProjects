{
 "cells": [
  {
   "cell_type": "code",
   "execution_count": 8,
   "metadata": {
    "collapsed": true
   },
   "outputs": [],
   "source": [
    "import numpy as np\n",
    "import matplotlib.pyplot as plt\n",
    "import pandas as pd\n",
    "from keras.datasets import mnist"
   ]
  },
  {
   "cell_type": "code",
   "execution_count": 7,
   "outputs": [
    {
     "name": "stdout",
     "output_type": "stream",
     "text": [
      "X_train: (60000, 28, 28)\n",
      "Y_train: (60000,)\n",
      "X_test:  (10000, 28, 28)\n",
      "Y_test:  (10000,)\n"
     ]
    }
   ],
   "source": [
    "# Importing the dataset\n",
    "(train_X, train_y), (test_X, test_y) = mnist.load_data()\n",
    "print('X_train: ' + str(train_X.shape))\n",
    "print('Y_train: ' + str(train_y.shape))\n",
    "print('X_test:  '  + str(test_X.shape))\n",
    "print('Y_test:  '  + str(test_y.shape))"
   ],
   "metadata": {
    "collapsed": false
   }
  },
  {
   "cell_type": "code",
   "execution_count": 10,
   "outputs": [
    {
     "data": {
      "text/plain": "(60000, 28)"
     },
     "execution_count": 10,
     "metadata": {},
     "output_type": "execute_result"
    }
   ],
   "source": [
    "train_X[:,0].shape"
   ],
   "metadata": {
    "collapsed": false
   }
  },
  {
   "cell_type": "markdown",
   "source": [],
   "metadata": {
    "collapsed": false
   }
  },
  {
   "cell_type": "code",
   "execution_count": null,
   "outputs": [],
   "source": [
    "W1 = np.random.randn(10,784)\n",
    "b1 = np.random.randn(10,1)\n",
    "W2 = np.random.randn(10,10)\n",
    "b2 = np.random.randn(10,1)\n",
    "\n",
    "def relu(Z):\n",
    "    return np.maximum(0,Z)\n",
    "def softmax(Z):\n",
    "    return np.exp(Z)/np.sum(np.exp(Z))\n",
    "Z1 = W1.dot(train_X ) + b1\n",
    "A1 = relu(Z1)\n",
    "Z2 = W2.dot(A1) + b2\n",
    "A2 = softmax(Z2)"
   ],
   "metadata": {
    "collapsed": false
   }
  },
  {
   "cell_type": "code",
   "execution_count": null,
   "outputs": [],
   "source": [
    "def one_hot(y):\n",
    "    one_hot = np.zeros((10, y.shape[0]))\n",
    "    for i in range(y.shape[0]):\n",
    "        one_hot[y[i],i] = 1\n",
    "    return one_hot"
   ],
   "metadata": {
    "collapsed": false
   }
  },
  {
   "cell_type": "code",
   "execution_count": null,
   "outputs": [],
   "source": [
    "one_hot_Y = one_hot(train_y)\n",
    "m = train_y.size\n",
    "dZ2 = A2 - one_hot_Y\n",
    "dW2 = 1/m * dZ2.dot(A1.T)\n",
    "db2 = 1/m * np.sum(dZ2, axis=1, keepdims=True)\n",
    "dZ1 = W2.T.dot(dZ2) * (A1 > 0)  # relu derivative\n",
    "dW1 = 1/m * dZ1.dot(train_X.T)\n",
    "db1 = 1/m * np.sum(dZ1,2)"
   ],
   "metadata": {
    "collapsed": false
   }
  },
  {
   "cell_type": "code",
   "execution_count": null,
   "outputs": [],
   "source": [],
   "metadata": {
    "collapsed": false
   }
  }
 ],
 "metadata": {
  "kernelspec": {
   "display_name": "Python 3",
   "language": "python",
   "name": "python3"
  },
  "language_info": {
   "codemirror_mode": {
    "name": "ipython",
    "version": 2
   },
   "file_extension": ".py",
   "mimetype": "text/x-python",
   "name": "python",
   "nbconvert_exporter": "python",
   "pygments_lexer": "ipython2",
   "version": "2.7.6"
  }
 },
 "nbformat": 4,
 "nbformat_minor": 0
}
