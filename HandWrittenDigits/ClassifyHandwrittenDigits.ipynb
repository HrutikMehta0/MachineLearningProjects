{
 "cells": [
  {
   "cell_type": "code",
   "execution_count": 1,
   "metadata": {
    "collapsed": true
   },
   "outputs": [],
   "source": [
    "import numpy as np\n",
    "import matplotlib.pyplot as plt\n",
    "import pandas as pd\n",
    "from keras.datasets import mnist"
   ]
  },
  {
   "cell_type": "code",
   "execution_count": 6,
   "outputs": [
    {
     "name": "stderr",
     "output_type": "stream",
     "text": [
      "C:\\Users\\Hrutik\\AppData\\Local\\Temp\\ipykernel_5000\\2895710680.py:3: VisibleDeprecationWarning: Creating an ndarray from ragged nested sequences (which is a list-or-tuple of lists-or-tuples-or ndarrays with different lengths or shapes) is deprecated. If you meant to do this, you must specify 'dtype=object' when creating the ndarray.\n",
      "  data = np.array(data)\n"
     ]
    },
    {
     "data": {
      "text/plain": "array([[array([[[0, 0, 0, ..., 0, 0, 0],\n                [0, 0, 0, ..., 0, 0, 0],\n                [0, 0, 0, ..., 0, 0, 0],\n                ...,\n                [0, 0, 0, ..., 0, 0, 0],\n                [0, 0, 0, ..., 0, 0, 0],\n                [0, 0, 0, ..., 0, 0, 0]],\n\n               [[0, 0, 0, ..., 0, 0, 0],\n                [0, 0, 0, ..., 0, 0, 0],\n                [0, 0, 0, ..., 0, 0, 0],\n                ...,\n                [0, 0, 0, ..., 0, 0, 0],\n                [0, 0, 0, ..., 0, 0, 0],\n                [0, 0, 0, ..., 0, 0, 0]],\n\n               [[0, 0, 0, ..., 0, 0, 0],\n                [0, 0, 0, ..., 0, 0, 0],\n                [0, 0, 0, ..., 0, 0, 0],\n                ...,\n                [0, 0, 0, ..., 0, 0, 0],\n                [0, 0, 0, ..., 0, 0, 0],\n                [0, 0, 0, ..., 0, 0, 0]],\n\n               ...,\n\n               [[0, 0, 0, ..., 0, 0, 0],\n                [0, 0, 0, ..., 0, 0, 0],\n                [0, 0, 0, ..., 0, 0, 0],\n                ...,\n                [0, 0, 0, ..., 0, 0, 0],\n                [0, 0, 0, ..., 0, 0, 0],\n                [0, 0, 0, ..., 0, 0, 0]],\n\n               [[0, 0, 0, ..., 0, 0, 0],\n                [0, 0, 0, ..., 0, 0, 0],\n                [0, 0, 0, ..., 0, 0, 0],\n                ...,\n                [0, 0, 0, ..., 0, 0, 0],\n                [0, 0, 0, ..., 0, 0, 0],\n                [0, 0, 0, ..., 0, 0, 0]],\n\n               [[0, 0, 0, ..., 0, 0, 0],\n                [0, 0, 0, ..., 0, 0, 0],\n                [0, 0, 0, ..., 0, 0, 0],\n                ...,\n                [0, 0, 0, ..., 0, 0, 0],\n                [0, 0, 0, ..., 0, 0, 0],\n                [0, 0, 0, ..., 0, 0, 0]]], dtype=uint8),\n        array([5, 0, 4, ..., 5, 6, 8], dtype=uint8)],\n       [array([[[0, 0, 0, ..., 0, 0, 0],\n                [0, 0, 0, ..., 0, 0, 0],\n                [0, 0, 0, ..., 0, 0, 0],\n                ...,\n                [0, 0, 0, ..., 0, 0, 0],\n                [0, 0, 0, ..., 0, 0, 0],\n                [0, 0, 0, ..., 0, 0, 0]],\n\n               [[0, 0, 0, ..., 0, 0, 0],\n                [0, 0, 0, ..., 0, 0, 0],\n                [0, 0, 0, ..., 0, 0, 0],\n                ...,\n                [0, 0, 0, ..., 0, 0, 0],\n                [0, 0, 0, ..., 0, 0, 0],\n                [0, 0, 0, ..., 0, 0, 0]],\n\n               [[0, 0, 0, ..., 0, 0, 0],\n                [0, 0, 0, ..., 0, 0, 0],\n                [0, 0, 0, ..., 0, 0, 0],\n                ...,\n                [0, 0, 0, ..., 0, 0, 0],\n                [0, 0, 0, ..., 0, 0, 0],\n                [0, 0, 0, ..., 0, 0, 0]],\n\n               ...,\n\n               [[0, 0, 0, ..., 0, 0, 0],\n                [0, 0, 0, ..., 0, 0, 0],\n                [0, 0, 0, ..., 0, 0, 0],\n                ...,\n                [0, 0, 0, ..., 0, 0, 0],\n                [0, 0, 0, ..., 0, 0, 0],\n                [0, 0, 0, ..., 0, 0, 0]],\n\n               [[0, 0, 0, ..., 0, 0, 0],\n                [0, 0, 0, ..., 0, 0, 0],\n                [0, 0, 0, ..., 0, 0, 0],\n                ...,\n                [0, 0, 0, ..., 0, 0, 0],\n                [0, 0, 0, ..., 0, 0, 0],\n                [0, 0, 0, ..., 0, 0, 0]],\n\n               [[0, 0, 0, ..., 0, 0, 0],\n                [0, 0, 0, ..., 0, 0, 0],\n                [0, 0, 0, ..., 0, 0, 0],\n                ...,\n                [0, 0, 0, ..., 0, 0, 0],\n                [0, 0, 0, ..., 0, 0, 0],\n                [0, 0, 0, ..., 0, 0, 0]]], dtype=uint8),\n        array([7, 2, 1, ..., 4, 5, 6], dtype=uint8)]], dtype=object)"
     },
     "execution_count": 6,
     "metadata": {},
     "output_type": "execute_result"
    }
   ],
   "source": [
    "# Importing the dataset\n",
    "data = mnist.load_data()\n",
    "data = np.array(data)\n",
    "data"
   ],
   "metadata": {
    "collapsed": false
   }
  },
  {
   "cell_type": "code",
   "execution_count": null,
   "outputs": [],
   "source": [],
   "metadata": {
    "collapsed": false
   }
  }
 ],
 "metadata": {
  "kernelspec": {
   "display_name": "Python 3",
   "language": "python",
   "name": "python3"
  },
  "language_info": {
   "codemirror_mode": {
    "name": "ipython",
    "version": 2
   },
   "file_extension": ".py",
   "mimetype": "text/x-python",
   "name": "python",
   "nbconvert_exporter": "python",
   "pygments_lexer": "ipython2",
   "version": "2.7.6"
  }
 },
 "nbformat": 4,
 "nbformat_minor": 0
}
